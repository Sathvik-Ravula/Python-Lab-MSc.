{
 "cells": [
  {
   "cell_type": "markdown",
   "id": "b74246e1",
   "metadata": {},
   "source": [
    "PROBLEM SHEET - 1 \n",
    "Q2.\n",
    "(a)"
   ]
  },
  {
   "cell_type": "code",
   "execution_count": 30,
   "id": "50004ba4",
   "metadata": {},
   "outputs": [
    {
     "name": "stdout",
     "output_type": "stream",
     "text": [
      "Enter N to Compute E[X^n] :3\n",
      "E[x^3] = 6.0\n",
      "E[x] = 0.9999999999999998\n",
      "E[x^2] = 2.0\n",
      "Var(x) =  1.0000000000000004\n"
     ]
    }
   ],
   "source": [
    "from scipy import integrate\n",
    "import numpy as np\n",
    "\n",
    "def E1(x): #Expectation of X\n",
    "    return x * np.exp(-x)\n",
    "\n",
    "def E2(x): #Expectation of X^2\n",
    "    return x**2 * np.exp(-x)\n",
    "\n",
    "def EN(n,x): #Expectation of X^n\n",
    "    return x**(n-1)*E1(x)\n",
    "\n",
    "v1,e1 = integrate.quad(E1,0,np.Inf)\n",
    "v2,e2 = integrate.quad(E2,0,np.Inf)\n",
    "\n",
    "def e(x,n):\n",
    "    if(n<0):\n",
    "        print(\"cant compute expextaion -ve powers\")\n",
    "        return \n",
    "    k=1\n",
    "    for i in range(n-1):\n",
    "        k=k*x\n",
    "    return (k*E1(x))\n",
    "\n",
    "\n",
    "n = int(input(\"Enter N to Compute E[X^n] :\"))\n",
    "\n",
    "if n>2:\n",
    "    vn,en = integrate.quad(e, 0, np.Inf,args=(n))\n",
    "    print(f\"E[x^{n}] =\",vn)\n",
    "        \n",
    "    \n",
    "    \n",
    "print(\"From the error below we can see that expectations doesnt exist\")\n"
   ]
  },
  {
   "cell_type": "markdown",
   "id": "531a2da3",
   "metadata": {},
   "source": [
    "PROBLEM SHEET - 1 \n",
    "Q2.\n",
    "(b)"
   ]
  },
  {
   "cell_type": "code",
   "execution_count": 33,
   "id": "3366323a",
   "metadata": {},
   "outputs": [
    {
     "name": "stdout",
     "output_type": "stream",
     "text": [
     "From the error below we can see that expectations doesnt exist\n"
     ]
    },
    {
     "name": "stderr",
     "output_type": "stream",
     "text": [
      "C:\\Users\\Msc 1\\AppData\\Local\\Temp\\ipykernel_1840\\161150197.py:13: IntegrationWarning: The integral is probably divergent, or slowly convergent.\n",
      "  v2,e2 = integrate.quad(E2,np.NINF,np.Inf)\n"
     ]
    }
   ],
   "source": [
    "from scipy import integrate\n",
    "import numpy as np\n",
    "import math\n",
    "\n",
    "\n",
    "def E1(x): #Expectation of X\n",
    "    return x*(1/(math.pi*(1+x**2)))\n",
    "\n",
    "def E2(x): #Expectation of X^2\n",
    "    return x**2*(1/(math.pi*(1+x**2)))\n",
    "\n",
    "v1,e1 = integrate.quad(E1,np.NINF,np.Inf)\n",
    "v2,e2 = integrate.quad(E2,np.NINF,np.Inf)\n",
    "\n",
    "print(\"E[x] =\",v1)\n",
    "print(\"E[x^2] =\",v2)\n",
    "print(\"Var(x) = \",(v2 - v1**2))"
   ]
  },
  {
   "cell_type": "markdown",
   "id": "4d7989b2",
   "metadata": {},
   "source": [
    "PROBLEM SHEET - 1 \n",
    "Q2.\n",
    "(c)"
   ]
  },
  {
   "cell_type": "code",
   "execution_count": 60,
   "id": "a2b38999",
   "metadata": {},
   "outputs": [
    {
     "name": "stdout",
     "output_type": "stream",
     "text": [
      "Enter N to Compute E[X^n] :3\n",
      "E[x^3] = 24.0\n",
      "E[x] = 2.0\n",
      "E[x^2] = 6.0\n",
      "Var(x) =  2.0\n"
     ]
    }
   ],
   "source": [
    "from scipy import integrate\n",
    "import numpy as np\n",
    "\n",
    "\n",
    "def E1(x): #Expectation of X\n",
    "    return x*x*np.exp(-x)\n",
    "\n",
    "def E2(x): #Expectation of X^2\n",
    "    return x**2*x*np.exp(-x)\n",
    "\n",
    "v1,e1 = integrate.quad(E1,0,np.Inf)\n",
    "v2,e2 = integrate.quad(E2,0,np.Inf)\n",
    "\n",
    "def e(x,n): #Expectation of X^n\n",
    "    if(n<0):\n",
    "        print(\"cant compute expextaion -ve powers\")\n",
    "        return \n",
    "    k=1\n",
    "    for i in range(n-1):\n",
    "        k=k*x\n",
    "    return (k*E1(x))\n",
    "\n",
    "\n",
    "n = int(input(\"Enter N to Compute E[X^n] :\"))\n",
    "\n",
    "if n>2:\n",
    "    vn,en = integrate.quad(e, 0, np.Inf,args=(n))\n",
    "    print(f\"E[x^{n}] =\",vn)\n",
    "\n",
    "print(\"E[x] =\",v1)\n",
    "print(\"E[x^2] =\",v2)\n",
    "print(\"Var(x) = \",(v2 - v1**2))"
   ]
  },
  {
   "cell_type": "markdown",
   "id": "396accbb",
   "metadata": {},
   "source": [
    "PROBLEM SHEET - 1 \n",
    "Q2.\n",
    "(d)"
   ]
  },
  {
   "cell_type": "code",
   "execution_count": 48,
   "id": "732b238d",
   "metadata": {},
   "outputs": [
    {
     "name": "stdout",
     "output_type": "stream",
     "text": [
      "Enter P value :0.2\n",
      "Enter n value :10\n",
      "E[x] = 3.1209518080000005\n",
      "E[x^2] = 16.008970752000003\n",
      "Var(x) =  6.268630564141532\n"
     ]
    }
   ],
   "source": [
    "from scipy import integrate\n",
    "import numpy as np\n",
    "\n",
    "\n",
    "def E1(x,p): #Expectation of X\n",
    "    return x*(p*((1-p)**(x-1)))\n",
    "\n",
    "def E2(x,p): #Expectation of X^2\n",
    "    return x**2*(p*((1-p)**(x-1)))\n",
    "\n",
    "p = float(input(\"Enter P value :\"))\n",
    "n = int(input(\"Enter n value :\"))\n",
    "\n",
    "if p > 1 or p < 0:\n",
    "    print(\"p cant be less than 0 or greater than one\")\n",
    "    \n",
    "else : \n",
    "    v1=0\n",
    "    v2=0\n",
    "    for i in range(n):\n",
    "        v1 = v1 + E1(i,p)\n",
    "        v2 = v2 + E2(i,p)\n",
    "        \n",
    "print(\"E[x] =\",v1)\n",
    "print(\"E[x^2] =\",v2)\n",
    "print(\"Var(x) = \",(v2 - v1**2))"
   ]
  },
  {
   "cell_type": "markdown",
   "id": "498de0f7",
   "metadata": {},
   "source": [
    "PROBLEM SHEET - 1 \n",
    "Q3.\n",
    "(a)"
   ]
  },
  {
   "cell_type": "code",
   "execution_count": 29,
   "id": "d1e73ae4",
   "metadata": {},
   "outputs": [
    {
     "name": "stdout",
     "output_type": "stream",
     "text": [
      "The value of the integral is : 1.0\n",
      "Hence It Is A PDF\n"
     ]
    }
   ],
   "source": [
    "from scipy import integrate\n",
    "import numpy as np\n",
    "import math\n",
    "\n",
    "theta = 90\n",
    "\n",
    "def E1(x): #Expectation of X\n",
    "    return theta*theta * x * np.exp(-theta*x)\n",
    "\n",
    "\n",
    "\n",
    "v1,e1 = integrate.quad(E1,0,np.Inf)\n",
    "\n",
    "print(\"The value of the integral is :\",v1)\n",
    "if v1>0.999: #considering float\n",
    "    print(\"Hence It Is A PDF\")"
   ]
  },
  {
   "cell_type": "markdown",
   "id": "a6c9784a",
   "metadata": {},
   "source": [
    "PROBLEM SHEET - 1 \n",
    "Q3.\n",
    "(b)"
   ]
  },
  {
   "cell_type": "code",
   "execution_count": 25,
   "id": "d74ba0de",
   "metadata": {},
   "outputs": [
    {
     "name": "stdout",
     "output_type": "stream",
     "text": [
      "The value of the integral is : 1.0\n",
      "Hence It Is A PDF\n"
     ]
    }
   ],
   "source": [
    "from scipy import integrate\n",
    "import numpy as np\n",
    "import math\n",
    "\n",
    "theta = 95\n",
    "\n",
    "def E1(x): #Expectation of X\n",
    "    return ((x+1)/(theta*(theta+1)))*np.exp(-x/theta)\n",
    "\n",
    "\n",
    "v1,e1 = integrate.quad(E1,0,np.Inf)\n",
    "\n",
    "print(\"The value of the integral is :\",v1)\n",
    "if v1>0.999: #considering float\n",
    "    print(\"Hence It Is A PDF\")"
   ]
  }
 ],
 "metadata": {
  "kernelspec": {
   "display_name": "Python 3 (ipykernel)",
   "language": "python",
   "name": "python3"
  },
  "language_info": {
   "codemirror_mode": {
    "name": "ipython",
    "version": 3
   },
   "file_extension": ".py",
   "mimetype": "text/x-python",
   "name": "python",
   "nbconvert_exporter": "python",
   "pygments_lexer": "ipython3",
   "version": "3.9.13"
  }
 },
 "nbformat": 4,
 "nbformat_minor": 5
}
