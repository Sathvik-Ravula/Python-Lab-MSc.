{
 "cells": [
  {
   "cell_type": "markdown",
   "id": "457fd932",
   "metadata": {},
   "source": [
    "# Section I"
   ]
  },
  {
   "cell_type": "markdown",
   "id": "196b22e0",
   "metadata": {},
   "source": [
    "###  Q1) How could you create a one-dimensional NumPy array of the numbers from 10 to 100, counting by 10?\n"
   ]
  },
  {
   "cell_type": "code",
   "execution_count": 1,
   "id": "af662a31",
   "metadata": {},
   "outputs": [],
   "source": [
    "import numpy as np"
   ]
  },
  {
   "cell_type": "code",
   "execution_count": 2,
   "id": "51117a96",
   "metadata": {},
   "outputs": [
    {
     "data": {
      "text/plain": [
       "array([ 10.,  20.,  30.,  40.,  50.,  60.,  70.,  80.,  90., 100.])"
      ]
     },
     "execution_count": 2,
     "metadata": {},
     "output_type": "execute_result"
    }
   ],
   "source": [
    "array = np.linspace(10,100,10)\n",
    "array"
   ]
  },
  {
   "cell_type": "markdown",
   "id": "f9ae88d4",
   "metadata": {},
   "source": [
    "### Q2) What is the data type for 4?"
   ]
  },
  {
   "cell_type": "code",
   "execution_count": 8,
   "id": "ddccc6e5",
   "metadata": {},
   "outputs": [
    {
     "name": "stdout",
     "output_type": "stream",
     "text": [
      "<class 'int'>\n"
     ]
    }
   ],
   "source": [
    "a = 4\n",
    "\n",
    "print(type(a))"
   ]
  },
  {
   "cell_type": "markdown",
   "id": "458feb39",
   "metadata": {},
   "source": [
    "##### Ans : Data Type is  Integer(int)"
   ]
  },
  {
   "cell_type": "markdown",
   "id": "9d5cfb97",
   "metadata": {},
   "source": [
    "### Q3)"
   ]
  },
  {
   "cell_type": "code",
   "execution_count": 13,
   "id": "a4da9f99",
   "metadata": {},
   "outputs": [
    {
     "name": "stdout",
     "output_type": "stream",
     "text": [
      "The Shape of X_array is : (3, 4, 5)\n",
      "The Dimension of X_array is : 3\n"
     ]
    }
   ],
   "source": [
    "z_list = [z for z in range(0,5)]\n",
    "y_list = [z_list for y in range(0,4)]\n",
    "x_list = [y_list for x in range(0,3)]\n",
    "\n",
    "x_array = np.array(x_list)\n",
    "print(\"The Shape of X_array is :\",np.shape(x_array))\n",
    "print(\"The Dimension of X_array is :\",np.ndim(x_array))"
   ]
  },
  {
   "cell_type": "markdown",
   "id": "5a0b2680",
   "metadata": {},
   "source": [
    "### Q4)\n"
   ]
  },
  {
   "cell_type": "code",
   "execution_count": 105,
   "id": "fc5db913",
   "metadata": {},
   "outputs": [
    {
     "data": {
      "text/html": [
       "<div>\n",
       "<style scoped>\n",
       "    .dataframe tbody tr th:only-of-type {\n",
       "        vertical-align: middle;\n",
       "    }\n",
       "\n",
       "    .dataframe tbody tr th {\n",
       "        vertical-align: top;\n",
       "    }\n",
       "\n",
       "    .dataframe thead th {\n",
       "        text-align: right;\n",
       "    }\n",
       "</style>\n",
       "<table border=\"1\" class=\"dataframe\">\n",
       "  <thead>\n",
       "    <tr style=\"text-align: right;\">\n",
       "      <th></th>\n",
       "      <th>age</th>\n",
       "      <th>gender</th>\n",
       "      <th>job</th>\n",
       "      <th>name</th>\n",
       "      <th>height</th>\n",
       "    </tr>\n",
       "  </thead>\n",
       "  <tbody>\n",
       "    <tr>\n",
       "      <th>0</th>\n",
       "      <td>19</td>\n",
       "      <td>F</td>\n",
       "      <td>student</td>\n",
       "      <td>alice</td>\n",
       "      <td>165.0</td>\n",
       "    </tr>\n",
       "    <tr>\n",
       "      <th>1</th>\n",
       "      <td>26</td>\n",
       "      <td>M</td>\n",
       "      <td>student</td>\n",
       "      <td>john</td>\n",
       "      <td>180.0</td>\n",
       "    </tr>\n",
       "    <tr>\n",
       "      <th>2</th>\n",
       "      <td>22</td>\n",
       "      <td>M</td>\n",
       "      <td>student</td>\n",
       "      <td>eric</td>\n",
       "      <td>175.0</td>\n",
       "    </tr>\n",
       "    <tr>\n",
       "      <th>3</th>\n",
       "      <td>58</td>\n",
       "      <td>F</td>\n",
       "      <td>manager</td>\n",
       "      <td>paul</td>\n",
       "      <td>NaN</td>\n",
       "    </tr>\n",
       "    <tr>\n",
       "      <th>4</th>\n",
       "      <td>33</td>\n",
       "      <td>M</td>\n",
       "      <td>engineer</td>\n",
       "      <td>peter</td>\n",
       "      <td>NaN</td>\n",
       "    </tr>\n",
       "    <tr>\n",
       "      <th>5</th>\n",
       "      <td>44</td>\n",
       "      <td>F</td>\n",
       "      <td>scientist</td>\n",
       "      <td>julie</td>\n",
       "      <td>171.0</td>\n",
       "    </tr>\n",
       "  </tbody>\n",
       "</table>\n",
       "</div>"
      ],
      "text/plain": [
       "   age gender        job   name height\n",
       "0   19      F    student  alice  165.0\n",
       "1   26      M    student   john  180.0\n",
       "2   22      M    student   eric  175.0\n",
       "3   58      F    manager   paul    NaN\n",
       "4   33      M   engineer  peter    NaN\n",
       "5   44      F  scientist  julie  171.0"
      ]
     },
     "execution_count": 105,
     "metadata": {},
     "output_type": "execute_result"
    }
   ],
   "source": [
    "data = {'age':[19,26,22,58,33,44],\n",
    "        'gender': ['F','M','M','F','M','F'],\n",
    "        'job': ['student','student','student','manager','engineer','scientist'],\n",
    "        'name': ['alice','john','eric','paul','peter','julie'],\n",
    "        'height':[165.0,180.0,175.0,'NaN','NaN',171.0]\n",
    "       }\n",
    "df =pd.DataFrame(data)\n",
    "df"
   ]
  },
  {
   "cell_type": "markdown",
   "id": "717ee351",
   "metadata": {},
   "source": [
    "### Q5)\n"
   ]
  },
  {
   "cell_type": "markdown",
   "id": "176da8fa",
   "metadata": {},
   "source": [
    "##### The given boxplot actually talks about the spread of salaries or the range of salaries for different programs like Bachelors, Masters and Ph.D education. \n",
    "**It Can be seen that those who are part of management during their studies earn more compared to those who did not undertake management.**"
   ]
  },
  {
   "cell_type": "markdown",
   "id": "a8b8addc",
   "metadata": {},
   "source": [
    "## Section II"
   ]
  },
  {
   "cell_type": "markdown",
   "id": "73b0f130",
   "metadata": {},
   "source": [
    "### Q10)\n",
    "Generate random 100 integers. Write a program to find the mean, median, and\n",
    "standard deviation for the generated data.\n"
   ]
  },
  {
   "cell_type": "code",
   "execution_count": 46,
   "id": "c0dc5aa0",
   "metadata": {},
   "outputs": [],
   "source": [
    "x = np.random.rand(100)"
   ]
  },
  {
   "cell_type": "code",
   "execution_count": 47,
   "id": "72821110",
   "metadata": {},
   "outputs": [
    {
     "data": {
      "text/plain": [
       "array([0.44213418, 0.94447633, 0.85453633, 0.69877054, 0.72247642,\n",
       "       0.35345378, 0.38537374, 0.29480999, 0.57110732, 0.94746407,\n",
       "       0.2099526 , 0.32403618, 0.18063961, 0.10876502, 0.94057843,\n",
       "       0.3061509 , 0.43652652, 0.95829826, 0.77556548, 0.63489507,\n",
       "       0.31586533, 0.74433728, 0.3383858 , 0.86018681, 0.78900715,\n",
       "       0.59064323, 0.11350076, 0.11683448, 0.9599681 , 0.94350866,\n",
       "       0.44292242, 0.2149115 , 0.45733735, 0.94643777, 0.14492749,\n",
       "       0.70886625, 0.51567469, 0.76645921, 0.57846277, 0.21642608,\n",
       "       0.26571231, 0.02568171, 0.44863396, 0.18881179, 0.39114271,\n",
       "       0.7357825 , 0.57524586, 0.80949852, 0.45415148, 0.08389519,\n",
       "       0.84318586, 0.22135861, 0.94463204, 0.40269626, 0.09543058,\n",
       "       0.9818613 , 0.9082123 , 0.9502406 , 0.01690002, 0.45618991,\n",
       "       0.96773317, 0.05198282, 0.88444575, 0.16350685, 0.69148273,\n",
       "       0.31268445, 0.87182069, 0.35208169, 0.76899731, 0.27066008,\n",
       "       0.11052822, 0.95079865, 0.80555818, 0.24472103, 0.93720989,\n",
       "       0.7602317 , 0.43910898, 0.34982753, 0.71434684, 0.98189242,\n",
       "       0.92332653, 0.2106926 , 0.41204024, 0.88570674, 0.99784297,\n",
       "       0.95744441, 0.67112268, 0.53070667, 0.69924596, 0.25412149,\n",
       "       0.63619204, 0.72791751, 0.75318399, 0.80389694, 0.72317462,\n",
       "       0.64837707, 0.43764299, 0.47557453, 0.76417558, 0.75528256])"
      ]
     },
     "execution_count": 47,
     "metadata": {},
     "output_type": "execute_result"
    }
   ],
   "source": [
    "x"
   ]
  },
  {
   "cell_type": "code",
   "execution_count": 48,
   "id": "be0bb2f6",
   "metadata": {},
   "outputs": [
    {
     "data": {
      "text/plain": [
       "100"
      ]
     },
     "execution_count": 48,
     "metadata": {},
     "output_type": "execute_result"
    }
   ],
   "source": [
    "np.size(x)"
   ]
  },
  {
   "cell_type": "code",
   "execution_count": 49,
   "id": "c4015ce6",
   "metadata": {},
   "outputs": [
    {
     "name": "stdout",
     "output_type": "stream",
     "text": [
      "The Mean for the following data is : 0.5655122447367812\n"
     ]
    }
   ],
   "source": [
    "print(\"The Mean for the following data is :\",np.mean(x))"
   ]
  },
  {
   "cell_type": "code",
   "execution_count": 50,
   "id": "77345a66",
   "metadata": {},
   "outputs": [
    {
     "name": "stdout",
     "output_type": "stream",
     "text": [
      "The Median for the following data is : 0.5845529996915939\n"
     ]
    }
   ],
   "source": [
    "print(\"The Median for the following data is :\",np.median(x))"
   ]
  },
  {
   "cell_type": "code",
   "execution_count": 140,
   "id": "d00ddec2",
   "metadata": {},
   "outputs": [
    {
     "name": "stdout",
     "output_type": "stream",
     "text": [
      "The standard deviation for the following data is : 0.08260750571225356\n"
     ]
    }
   ],
   "source": [
    "print(\"The standard deviation for the following data is :\",np.std(x))"
   ]
  },
  {
   "cell_type": "markdown",
   "id": "e24ed65b",
   "metadata": {},
   "source": [
    "### Q7)\n",
    "*Write a program to plot the following function:*\n",
    "$$ 𝑓(𝑥; 𝜃) = (1 + 𝜃)𝑥^𝜃 $$\n",
    " 0 < 𝑥 < 1, 𝜃 > −1."
   ]
  },
  {
   "cell_type": "code",
   "execution_count": 141,
   "id": "3bc10c33",
   "metadata": {},
   "outputs": [
    {
     "data": {
      "image/png": "[encoded data removed]",
      "text/plain": [
       "<Figure size 432x288 with 1 Axes>"
      ]
     },
     "metadata": {
      "needs_background": "light"
     },
     "output_type": "display_data"
    }
   ],
   "source": [
    "import matplotlib.pyplot as plt\n",
    "\n",
    "def f(x):\n",
    "    return ((1+theta)*x**theta)\n",
    "\n",
    "theta = 45\n",
    "\n",
    "X = np.linspace(0,10,1000)\n",
    "y = []\n",
    "\n",
    "for x in X:\n",
    "    y.append(f(x))\n",
    "    \n",
    "plt.xlabel(\"x\")\n",
    "plt.ylabel(\"f(x)\")\n",
    "plt.title(\"Plotting f(x) values from 0 to 10\")\n",
    "plt.plot(X,y)\n",
    "plt.show()"
   ]
  },
  {
   "cell_type": "markdown",
   "id": "7f62f3d4",
   "metadata": {},
   "source": [
    "### Q8)\n",
    "*Generate a random 100 numbers from the standard normal distribution. Plot the histogram and boxplot of the data.*"
   ]
  },
  {
   "cell_type": "code",
   "execution_count": 63,
   "id": "a1a4790a",
   "metadata": {},
   "outputs": [],
   "source": [
    "x = np.random.randn(100)"
   ]
  },
  {
   "cell_type": "code",
   "execution_count": 64,
   "id": "0e2f5b44",
   "metadata": {},
   "outputs": [
    {
     "data": {
      "text/plain": [
       "array([ 0.15850354,  0.38779151,  0.79800184,  0.5165519 , -0.07410858,\n",
       "        0.52611014,  0.65613456,  0.45644281, -0.89391814, -0.499683  ,\n",
       "       -0.56627215, -0.39436911, -1.16246298, -0.23633805,  0.73620632,\n",
       "        0.15164159, -1.36970299,  0.58982482,  1.25778357,  1.55820895,\n",
       "        1.34153996, -1.2991172 , -0.62921435, -1.41656573,  0.66455382,\n",
       "       -0.22082136, -0.65646036, -1.87889835, -1.06311331, -0.53528943,\n",
       "       -1.89322678,  0.51542485,  1.7256508 , -1.45309343, -0.25806639,\n",
       "       -1.12930361, -0.55159509,  0.22300052, -0.4549103 ,  0.33880621,\n",
       "        0.40209899,  0.05922818, -0.25284467,  1.14364715,  1.72569619,\n",
       "       -0.03353728, -0.62995359, -3.2386133 , -1.35564245,  0.41827649,\n",
       "        0.60608737, -0.64470394, -1.90956157, -0.63189166, -1.04215254,\n",
       "        3.43413958, -0.56091024, -0.78759567,  0.5014441 , -0.97237111,\n",
       "       -1.69732435, -0.24132813, -0.40109372, -1.13952355, -0.49018577,\n",
       "       -0.68127371,  0.59645719, -1.07528145,  1.40688271, -0.0778683 ,\n",
       "        0.04044892,  1.60998676,  1.6982595 ,  0.30890291,  0.06513384,\n",
       "       -0.647448  ,  0.20297518,  0.4792986 , -1.75769004,  1.10292574,\n",
       "       -0.54457667, -1.17911531,  0.31309917, -0.67633592, -1.67056658,\n",
       "        0.0316687 ,  1.05341001, -1.1444698 ,  1.10759474,  0.5785608 ,\n",
       "        0.54071568, -0.99617131,  0.61162313, -1.67947181,  0.37234122,\n",
       "        1.3062834 ,  1.82000685,  0.59446977, -0.35075759,  1.31951167])"
      ]
     },
     "execution_count": 64,
     "metadata": {},
     "output_type": "execute_result"
    }
   ],
   "source": [
    "x"
   ]
  },
  {
   "cell_type": "markdown",
   "id": "4eda3fce",
   "metadata": {},
   "source": [
    "**np.random.randn *Returns a sample (or samples) from the \"standard normal\" distribution.**"
   ]
  },
  {
   "cell_type": "code",
   "execution_count": 70,
   "id": "4a4f4d3f",
   "metadata": {},
   "outputs": [
    {
     "data": {
      "image/png": "[encoded data removed]",
      "text/plain": [
       "<Figure size 432x288 with 1 Axes>"
      ]
     },
     "metadata": {
      "needs_background": "light"
     },
     "output_type": "display_data"
    }
   ],
   "source": [
    "#printing histogram\n",
    "\n",
    "plt.hist(x)\n",
    "plt.show()\n"
   ]
  },
  {
   "cell_type": "code",
   "execution_count": 74,
   "id": "aaa3fd00",
   "metadata": {
    "scrolled": true
   },
   "outputs": [
    {
     "data": {
      "image/png": "[encoded data removed]",
      "text/plain": [
       "<Figure size 432x288 with 1 Axes>"
      ]
     },
     "metadata": {
      "needs_background": "light"
     },
     "output_type": "display_data"
    }
   ],
   "source": [
    "#printing boxplot\n",
    "\n",
    "plt.boxplot(x)\n",
    "plt.show()\n"
   ]
  },
  {
   "cell_type": "markdown",
   "id": "c712bbdd",
   "metadata": {},
   "source": [
    "### Q9)\n",
    "Generate pd.Series by using all the names of your classmates. Write a program to\n",
    "print the names containing at least 2 vowels from a series?"
   ]
  },
  {
   "cell_type": "code",
   "execution_count": 99,
   "id": "dbf86ae9",
   "metadata": {},
   "outputs": [
    {
     "data": {
      "text/plain": [
       "0        aditya\n",
       "1     sai kumar\n",
       "2         satya\n",
       "3        vamsee\n",
       "4       hemanth\n",
       "5        lalith\n",
       "6         pavan\n",
       "7       mathura\n",
       "8       sathvik\n",
       "9      varanasi\n",
       "10    aharneish\n",
       "11     anirudda\n",
       "12     sri hari\n",
       "13      swaroop\n",
       "14         test\n",
       "dtype: object"
      ]
     },
     "execution_count": 99,
     "metadata": {},
     "output_type": "execute_result"
    }
   ],
   "source": [
    "arr = np.array(['aditya','sai kumar','satya','vamsee','hemanth','lalith','pavan','mathura','sathvik','varanasi','aharneish','anirudda','sri hari','swaroop','test'])\n",
    "import pandas as pd\n",
    "s = pd.Series(arr)\n",
    "s"
   ]
  },
  {
   "cell_type": "code",
   "execution_count": 100,
   "id": "222877e8",
   "metadata": {},
   "outputs": [
    {
     "data": {
      "text/plain": [
       "0        aditya\n",
       "1     sai kumar\n",
       "2         satya\n",
       "3        vamsee\n",
       "4       hemanth\n",
       "5        lalith\n",
       "6         pavan\n",
       "7       mathura\n",
       "8       sathvik\n",
       "9      varanasi\n",
       "10    aharneish\n",
       "11     anirudda\n",
       "12     sri hari\n",
       "13      swaroop\n",
       "dtype: object"
      ]
     },
     "execution_count": 100,
     "metadata": {},
     "output_type": "execute_result"
    }
   ],
   "source": [
    "from collections import Counter\n",
    "mask = s.map(lambda x: sum([Counter(x.lower()).get(i, 0) for i in list('aeiou')]) >= 2)\n",
    "s[mask]"
   ]
  },
  {
   "cell_type": "markdown",
   "id": "ac46e6a1",
   "metadata": {},
   "source": [
    "#### We can see that 14th element in the series (*test*) did not come as it has less than two vowels"
   ]
  },
  {
   "cell_type": "markdown",
   "id": "4403f073",
   "metadata": {},
   "source": [
    "### Q6)\n",
    "Write a program to test the hypothesis **𝐻0: 𝜇 = 1.75 vs  𝐻1: 𝜇 ≠ 1.75**  based on the\n",
    "following observations:\n",
    "1.83, 1.83, 1.73, 1.82, 1.83, 1.73, 1.99, 1.85, 1.68, 1.87"
   ]
  },
  {
   "cell_type": "code",
   "execution_count": 106,
   "id": "3d6bf3be",
   "metadata": {},
   "outputs": [],
   "source": [
    "data = [1.83, 1.83, 1.73, 1.82, 1.83, 1.73, 1.99, 1.85, 1.68, 1.87]"
   ]
  },
  {
   "cell_type": "code",
   "execution_count": 108,
   "id": "292ffbd4",
   "metadata": {},
   "outputs": [],
   "source": [
    "h0 = 1.75\n",
    "\n",
    "m = np.mean(data)\n",
    "n = np.size(data)"
   ]
  },
  {
   "cell_type": "code",
   "execution_count": 111,
   "id": "8f62632f",
   "metadata": {},
   "outputs": [],
   "source": [
    "s = np.std(data, ddof=1)\n",
    "\n",
    "\n",
    "t_val = (m - h0)/(s/np.sqrt(n))"
   ]
  },
  {
   "cell_type": "code",
   "execution_count": 112,
   "id": "f6bc3784",
   "metadata": {},
   "outputs": [
    {
     "data": {
      "text/plain": [
       "7.579589424892448"
      ]
     },
     "execution_count": 112,
     "metadata": {},
     "output_type": "execute_result"
    }
   ],
   "source": [
    "t_val"
   ]
  },
  {
   "cell_type": "code",
   "execution_count": 135,
   "id": "097679b8",
   "metadata": {},
   "outputs": [
    {
     "name": "stdout",
     "output_type": "stream",
     "text": [
      "2.3968766311585883\n"
     ]
    }
   ],
   "source": [
    "x = [1.83, 1.83, 1.73, 1.82, 1.83, 1.73, 1.99, 1.85, 1.68, 1.87]\n",
    "\n",
    "mean = np.mean(x)\n",
    "\n",
    "h0 = 1.75 #Null hypothesis\n",
    "\n",
    "s = np.std(x, ddof=1)\n",
    "n = len(x)\n",
    "\n",
    "t_val = (mean - h0)/(s/np.sqrt(n))\n",
    "\n",
    "print(t_val)\n",
    "\n",
    "tvalues = np.linspace(-10, 10, 100)\n",
    "\n",
    "upper_tval_tvalues = tvalues[tvalues > tobs]\n",
    "\n",
    "alpha = 0.05 #assumption"
   ]
  },
  {
   "cell_type": "code",
   "execution_count": 137,
   "id": "fc1062aa",
   "metadata": {},
   "outputs": [],
   "source": [
    "p_val = np.mean(stats.t.pdf(upper_tval_tvalues, n-1))"
   ]
  },
  {
   "cell_type": "code",
   "execution_count": 138,
   "id": "764c21f4",
   "metadata": {},
   "outputs": [
    {
     "data": {
      "text/plain": [
       "0.002485799269215142"
      ]
     },
     "execution_count": 138,
     "metadata": {},
     "output_type": "execute_result"
    }
   ],
   "source": [
    "p_val"
   ]
  },
  {
   "cell_type": "code",
   "execution_count": 139,
   "id": "295a6610",
   "metadata": {},
   "outputs": [
    {
     "name": "stdout",
     "output_type": "stream",
     "text": [
      "Reject Null Hypothesis\n"
     ]
    }
   ],
   "source": [
    "if(p_val <  alpha):\n",
    "    print(\"Reject Null Hypothesis\")\n",
    "else:\n",
    "    print(\"Fail to Reject NUll Hypothesis\")"
   ]
  }
 ],
 "metadata": {
  "kernelspec": {
   "display_name": "Python 3 (ipykernel)",
   "language": "python",
   "name": "python3"
  },
  "language_info": {
   "codemirror_mode": {
    "name": "ipython",
    "version": 3
   },
   "file_extension": ".py",
   "mimetype": "text/x-python",
   "name": "python",
   "nbconvert_exporter": "python",
   "pygments_lexer": "ipython3",
   "version": "3.9.13"
  }
 },
 "nbformat": 4,
 "nbformat_minor": 5
}
