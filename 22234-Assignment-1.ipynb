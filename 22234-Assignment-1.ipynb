{
 "cells": [
  {
   "cell_type": "markdown",
   "id": "44e708ce",
   "metadata": {},
   "source": [
    " "
   ]
  },
  {
   "cell_type": "markdown",
   "id": "e87a574d",
   "metadata": {},
   "source": [
    "Q1. Write a program to compute the real roots of the equation  𝑎𝑥2+𝑏𝑥+𝑐."
   ]
  },
  {
   "cell_type": "code",
   "execution_count": 3,
   "id": "1c98022d",
   "metadata": {},
   "outputs": [
    {
     "name": "stdout",
     "output_type": "stream",
     "text": [
      "Enter the values for a in the expression ax**2 + bx + c :2\n",
      "Enter the values for b in the expression ax**2 + bx + c :5\n",
      "Enter the values for c in the expression ax**2 + bx + c :3\n",
      "The Roots For The Equation Are: -1.0 -1.5\n"
     ]
    }
   ],
   "source": [
    "#Q1\n",
    "#a program to compute the real roots of the equation  𝑎𝑥2+𝑏𝑥+𝑐.\n",
    "\n",
    "import math\n",
    "\n",
    "#Taking user input for values of a,b,c\n",
    "a = int(input(\"Enter the values for a in the expression ax**2 + bx + c :\"))\n",
    "b = int(input(\"Enter the values for b in the expression ax**2 + bx + c :\"))\n",
    "c = int(input(\"Enter the values for c in the expression ax**2 + bx + c :\"))\n",
    "\n",
    "#Calculating b2-4ac\n",
    "\n",
    "d = b**2 - 4*a*c\n",
    "\n",
    "#Checking if the equation has real roots\n",
    "if d>=0 :\n",
    "    #Calculating the two roots and displaying them\n",
    "    root1 = (-b + math.sqrt(d))/(2*a)\n",
    "    root2 = (-b - math.sqrt(d))/(2*a)\n",
    "    print(\"The Roots For The Equation Are:\" ,root1,root2)\n",
    "    \n",
    "else:\n",
    "    #If it reaches this part then it means there are no real roots for the equation\n",
    "    print(\"No Real Roots Found\")"
   ]
  },
  {
   "cell_type": "markdown",
   "id": "b32256fe",
   "metadata": {},
   "source": [
    "Q2. Write a program to compute the probability  𝑃(𝑋=𝑥),  where  𝑋∼𝐵𝑖𝑛(𝑛=10,𝑝=0.2)"
   ]
  },
  {
   "cell_type": "code",
   "execution_count": null,
   "id": "8aa0b913",
   "metadata": {},
   "outputs": [],
   "source": [
    "from math import factorial\n",
    "from numpy import power\n",
    "\n",
    "def binomial(x,n=10,p=0.2):\n",
    "    \"\"\"\n",
    "    Written By : Saideva Sathvik(22234)\n",
    "    \n",
    "    This function computes the probability 𝑃(𝑋=𝑥), where 𝑋∼𝐵𝑖𝑛(𝑛=10,𝑝=0.2)\n",
    "    \n",
    "    Parameters\n",
    "    ----------\n",
    "    n : int\n",
    "        number of trails \n",
    "    p : float\n",
    "        p(success)\n",
    "\n",
    "    Prints\n",
    "    -------\n",
    "    binomial distribution of P(X=x) till n \"\"\"\n",
    "    \n",
    "    if x<=n:\n",
    "        if p<0 or p>1:\n",
    "            print(\"Error : Probability Can Neither Be Greater Than 1 Nor Less Than 0\")\n",
    "            \n",
    "        else:\n",
    "            sum=0.0\n",
    "            #for i in range(n+1):\n",
    "            ncr = factorial(n)/(factorial(x)*factorial(n-x))\n",
    "            px= ncr*(power(p,x))*(power(1-p,n-x))\n",
    "            #sum = sum+px\n",
    "            print(f\"𝑃(𝑋={x}) :\",px)\n",
    "            #print(f\"The Cumulative Density For P(X=x) until n={n} is :\",sum)\n",
    "        \n",
    "    else :\n",
    "        print(f\"𝑃(𝑋={x}) : 0\")\n",
    "        \n",
    "    \n",
    "n = int(input(\"Enter The No. of Bernoulli Trials :\"))\n",
    "p = float(input(\"Enter the probability of success :\"))\n",
    "x = int(input(\"Enter the specific x :\"))\n",
    "binomial(x,n,p)"
   ]
  },
  {
   "cell_type": "markdown",
   "id": "f0cbea4e",
   "metadata": {},
   "source": [
    "Q3. Lets say you are running a 5 km race. Write a program that,\n",
    "\n",
    "Upon completing each 1 km asks you \"are you tired?\"\n",
    "\n",
    "If you reply \"yes\" then it should break and print \"you didn't finish the race\"\n",
    "\n",
    "If you reply \"no\" then it should continue and ask \"are you tired\" on every km\n",
    "\n",
    "If you finish all 5 km then it should print congratulations message"
   ]
  },
  {
   "cell_type": "code",
   "execution_count": 10,
   "id": "70f08ec8",
   "metadata": {},
   "outputs": [
    {
     "name": "stdout",
     "output_type": "stream",
     "text": [
      "are you tired?n\n",
      "are you tired?n\n",
      "are you tired?n\n",
      "are you tired?n\n",
      "Congratulations\n"
     ]
    }
   ],
   "source": [
    "#Q3\n",
    "\n",
    "#for loop to iterate and take user input after every km\n",
    "for i in range(1,6):\n",
    "    if i<5:\n",
    "        #asking user whether he is tired or not\n",
    "        a = input(\"are you tired?\")\n",
    "        if a == \"yes\" or a == \"y\" : #comparing his response\n",
    "            print(\"you didn't finish the race\") #if he is tired\n",
    "            break #break out of the loop\n",
    "        else :\n",
    "            continue #if not tired, then continue until next km\n",
    "    if i==5: # if he finishes 5km print congrats message\n",
    "        print(\"Congratulations\")"
   ]
  },
  {
   "cell_type": "markdown",
   "id": "0a839a1c",
   "metadata": {},
   "source": [
    "Q4. Write a function tip_calc(bill, party), where bill is the total cost of a meal and party is the number of people in the group. \n",
    "The tip should be calculated as 15% for a party strictly less than six people, \n",
    "18% for a party strictly less than eight, \n",
    "20% for a party less than 11, and \n",
    "25% for a party 11 or more. \n",
    "A couple of test cases are given below."
   ]
  },
  {
   "cell_type": "code",
   "execution_count": 11,
   "id": "07064269",
   "metadata": {},
   "outputs": [
    {
     "name": "stdout",
     "output_type": "stream",
     "text": [
      "Tip =  500.0\n"
     ]
    }
   ],
   "source": [
    "#Q4\n",
    "\n",
    "def tip_calc(bill, party):\n",
    "    \"\"\"\n",
    "    Written By : Saideva Sathvik(22234)\n",
    "    \n",
    "    This function simply returns the amount of tip to be paid given the bill amount and no of people who attended the party.\n",
    "\n",
    "    Parameters\n",
    "    ----------\n",
    "    bill : int\n",
    "         total cost of a meal\n",
    "         \n",
    "    party : int\n",
    "          the number of people in the group\n",
    "\n",
    "\n",
    "    Returns\n",
    "    -------\n",
    "    tip : int\n",
    "        tip to be paid.\"\"\"\n",
    "        \n",
    "    if party<6:\n",
    "        return 0.15*bill\n",
    "    elif party>=6 and party<8:\n",
    "        return 0.18*bill\n",
    "    elif party>=8 and party<11:\n",
    "        return 0.20*bill\n",
    "    else:\n",
    "        return 0.25*bill\n",
    "\n",
    "tip = tip_calc(2500,9)\n",
    "print(\"Tip = \",tip)"
   ]
  },
  {
   "cell_type": "markdown",
   "id": "05c9db3c",
   "metadata": {},
   "source": [
    "Q5. Write a function mult_operation(a,b,operation). The input argument, operation, \n",
    "is a string that is either 'plus', 'minus', 'mult', 'div', or 'pow', \n",
    "and the function should compute:a+b, a−b, a∗b, a/b, and ab \n",
    "for the respective values for operation. A couple of test cases are given below."
   ]
  },
  {
   "cell_type": "code",
   "execution_count": 14,
   "id": "db16cb40",
   "metadata": {},
   "outputs": [
    {
     "name": "stdout",
     "output_type": "stream",
     "text": [
      "27\n"
     ]
    }
   ],
   "source": [
    "#Q5\n",
    "\n",
    "def mult_operation(a,b,operation):\n",
    "    \"\"\"\n",
    "    Written By : Saideva Sathvik(22234)\n",
    "    \n",
    "    This function simply computes : a+b, a−b, a∗b, a/b, and ab for the respective values for operation.\n",
    "\n",
    "    Parameters\n",
    "    ----------\n",
    "    a : int\n",
    "        value 1 \n",
    "    b : int\n",
    "        value 2\n",
    "    operation : string\n",
    "        is a string that is either 'plus', 'minus', 'mult', 'div', or 'pow'.\n",
    "\n",
    "    Prints\n",
    "    -------\n",
    "    int\n",
    "        the value of the corresponding operation.\"\"\"\n",
    "    if operation == \"plus\":\n",
    "        print(a+b)\n",
    "    elif operation == \"minus\":\n",
    "        print(a-b)\n",
    "    elif operation == \"mult\":\n",
    "        print(a*b)\n",
    "    elif operation == \"div\":\n",
    "        print(a/b)\n",
    "    elif operation == \"pow\":\n",
    "        print(a**b)\n",
    "    else:\n",
    "        print(\"Wrong Choice, No Such Operation Found!!\")\n",
    "        return\n",
    "    \n",
    "mult_operation(3,3,'pow')"
   ]
  },
  {
   "cell_type": "markdown",
   "id": "1c2c39f6",
   "metadata": {},
   "source": [
    "Q6. Consider a triangle with vertices at (0,0), (1,0), and (0,1). Write a function inside_triangle(x,y) \n",
    "where the output is the string ‘outside’ if the point (x,y) is outside of the triangle, \n",
    "‘border’ if the point is exactly on the border of the triangle, and ‘inside’ if the point is on the inside of the triangle."
   ]
  },
  {
   "cell_type": "code",
   "execution_count": 15,
   "id": "b5545ea8",
   "metadata": {},
   "outputs": [
    {
     "data": {
      "text/plain": [
       "'border'"
      ]
     },
     "execution_count": 15,
     "metadata": {},
     "output_type": "execute_result"
    }
   ],
   "source": [
    "#Q6\n",
    "\n",
    "def inside_triangle(x,y):\n",
    "    \"\"\"\n",
    "    Written By : Saideva Sathvik(22234)\n",
    "    \n",
    "    This function simply returns the string ‘outside’ if the point (x,y) is outside of the triangle, \n",
    "    ‘border’ if the point is exactly on the border of the triangle, \n",
    "    and ‘inside’ if the point is on the inside of the triangle..\n",
    "\n",
    "    Parameters\n",
    "    ----------\n",
    "    x : float\n",
    "        x-coordinate \n",
    "    y : float\n",
    "        y-coordinate\n",
    "\n",
    "    Returns\n",
    "    -------\n",
    "    output : string\n",
    "        the location of the point w.r.t the triangle.\"\"\"\n",
    "    \n",
    "    if x+y==1 or (x==0 and y==0):\n",
    "        output = \"border\" \n",
    "        return output\n",
    "    if x+y>1 or x<0 or y<0:\n",
    "        output = \"outside\"\n",
    "        return output\n",
    "    if x+y<1:\n",
    "        if x==0 or y==0:\n",
    "            output = \"border\"\n",
    "            return output\n",
    "        output = \"inside\"\n",
    "        return output\n",
    "    \n",
    "        \n",
    "inside_triangle(0.9,0.1)"
   ]
  },
  {
   "cell_type": "markdown",
   "id": "ac55ff6d",
   "metadata": {},
   "source": [
    "Q7. Write a function letter_grader(percent), where grade is the string ‘O’ if percent is greater than 80, \n",
    "‘A’ if percent is greater than 70, ‘B‘ if percent is greater than 60, \n",
    "‘C’ if percent is greater than 40, and ‘F’ if percent is less than 40. \n",
    "Grades exactly on the division should be included in the higher grade category."
   ]
  },
  {
   "cell_type": "code",
   "execution_count": 6,
   "id": "249817ab",
   "metadata": {},
   "outputs": [
    {
     "name": "stdout",
     "output_type": "stream",
     "text": [
      "Enter your Percentage to find grade :65\n",
      "Your Grade is : B\n"
     ]
    }
   ],
   "source": [
    "#Q7\n",
    "\n",
    "def letter_grader(percent):\n",
    "    \"\"\"\n",
    "    Written By : Saideva Sathvik(22234)\n",
    "    \n",
    "    This function simply returns Grade by taking percentage as input.\n",
    "\n",
    "    Parameters\n",
    "    ----------\n",
    "    percent : float\n",
    "        percentage of marks \n",
    "\n",
    "    Returns\n",
    "    -------\n",
    "    grade(g) : string\n",
    "        grade corresponding to the given percentage.\"\"\"\n",
    "        \n",
    "    if percent>=80 and percent<=100:\n",
    "        return \"O\"\n",
    "    elif percent>=70 and percent<80:\n",
    "        return \"A\"\n",
    "    elif percent>=60 and percent<70:\n",
    "        return \"B\"\n",
    "    elif percent>=40 and percent<60:\n",
    "        return \"C\"\n",
    "    elif percent<40:\n",
    "        return \"F\"\n",
    "    else:\n",
    "        print(\"Wrong Input\")\n",
    "        return\n",
    "    \n",
    "g = float(input(\"Enter your Percentage to find grade :\"))\n",
    "res = letter_grader(g)\n",
    "print(\"Your Grade is :\",res)\n",
    "    "
   ]
  },
  {
   "cell_type": "markdown",
   "id": "0a141b6f",
   "metadata": {},
   "source": [
    "Q8. Consider a nuclear reactor whose temperature is monitored by three sensors. An alarm should go off if any two of the sensor readings disagree. \n",
    "Write a function nuke_alarm(s1,s2,s3) where s1, s2, and s3 are the temperature readings for \n",
    "sensor 1, sensor 2, and sensor 3, respectively. \n",
    "The output should be the string ‘alarm!’ if any two of the temperature readings disagree by \n",
    "strictly more than 10 degreesand ‘normal’ otherwise."
   ]
  },
  {
   "cell_type": "code",
   "execution_count": 21,
   "id": "1226f129",
   "metadata": {},
   "outputs": [
    {
     "name": "stdout",
     "output_type": "stream",
     "text": [
      "alarm!\n"
     ]
    }
   ],
   "source": [
    "#Q8\n",
    "\n",
    "def nuke_alarm(s1,s2,s3):\n",
    "    \"\"\"\n",
    "     Written By : Saideva Sathvik(22234)\n",
    "    \n",
    "    This function simply returns the string ‘alarm!’ if any two of the temperature readings of the three nuclear reactors \n",
    "    disagree by strictly more than 10 degreesand ‘normal’ otherwise.\n",
    "\n",
    "    Parameters\n",
    "    ----------\n",
    "    s1 : int\n",
    "        temperature readings for sensor 1 \n",
    "    s2 : int\n",
    "        temperature readings for sensor 2\n",
    "    s3 : int\n",
    "        temperature readings for sensor 3\n",
    "\n",
    "    Prints\n",
    "    -------\n",
    "    string :\n",
    "        the string ‘alarm!’ if any two of the temperature readings \n",
    "        disagree by strictly more than 10 degreesand ‘normal’ otherwise.\"\"\"\n",
    "    \n",
    "    if s1-s2>10 or s2-s3>10 or s3-s1>10 or s2-s1>10 or s3-s2>10 or s1-s3>10:\n",
    "        print(\"alarm!\")\n",
    "        \n",
    "    else:\n",
    "        print(\"normal\")\n",
    "\n",
    "nuke_alarm(20,10,30)\n"
   ]
  },
  {
   "cell_type": "markdown",
   "id": "038f21d1",
   "metadata": {},
   "source": [
    "Q9. Write a function n_odds(x), where  𝑥  is a one-dimensional array of floats and the output is the number of odd numbers in  𝑥."
   ]
  },
  {
   "cell_type": "code",
   "execution_count": 26,
   "id": "be0b434d",
   "metadata": {},
   "outputs": [
    {
     "name": "stdout",
     "output_type": "stream",
     "text": [
      "No of Odds =  8\n"
     ]
    }
   ],
   "source": [
    "#Q9        \n",
    "def n_odds(x):\n",
    "    count = 0\n",
    "    \"\"\"\n",
    "    Written By : Saideva Sathvik(22234)\n",
    "    \n",
    "    This function simply returns the number of odd numbers in a given 1-D array of Floats.\n",
    "\n",
    "    Parameters\n",
    "    ----------\n",
    "    x : list\n",
    "        one-dimensional array of floats\n",
    "\n",
    "    Returns\n",
    "    -------\n",
    "    count : int\n",
    "        number of odd numbers in 𝑥.\"\"\"\n",
    "    for i in x:\n",
    "        if i%2==0:\n",
    "            continue\n",
    "        else:\n",
    "            count=count+1\n",
    "            \n",
    "    return count\n",
    "x = [2,3,1,5,9,3,7,7,3]\n",
    "c = n_odds(x)\n",
    "print(\"No of Odds = \",c)"
   ]
  },
  {
   "cell_type": "markdown",
   "id": "30f8b618",
   "metadata": {},
   "source": [
    "Q10. Write a function vol_cylinder(r,h), where  𝑟  and  ℎ  are the radius and height of a cylinder, respectively,\n",
    "and the output is a list  [𝑠,𝑣]  where  𝑠  and  𝑣  are the surface area and volume of the same cylinder, respectively. \n",
    "Recall that the surface area of a cylinder is  2π𝑟2+2π𝑟ℎ,  and the volume is  π𝑟2ℎ.  Assume that  𝑟  and  ℎ  are 1 by 1 float."
   ]
  },
  {
   "cell_type": "code",
   "execution_count": 19,
   "id": "1b522220",
   "metadata": {},
   "outputs": [
    {
     "name": "stdout",
     "output_type": "stream",
     "text": [
      "Enter the radius of the cylinder : 2.3\n",
      "Enter the height of the cylinder : 1.3\n",
      "The Surface Area and Volume For The Given Cylinder is : \n",
      "[52.024774343446964, 21.604732678737005]\n"
     ]
    }
   ],
   "source": [
    "import math\n",
    "\n",
    "def vol_cylinder(r=1,h=1): \n",
    "    \"\"\"\n",
    "    Written By : Saideva Sathvik(22234)\n",
    "    \n",
    "    This function simply returns the surface area and volume of a cylinder by taking radius and height as input.\n",
    "\n",
    "    Parameters\n",
    "    ----------\n",
    "    r : float\n",
    "        radius of the cylinder \n",
    "        default value = 1\n",
    "    h : float\n",
    "        height of the cylinder\n",
    "        default value = 1\n",
    "\n",
    "    Returns\n",
    "    -------\n",
    "    [s,v] : list\n",
    "        surface area and volume of the cylinder.\"\"\"\n",
    "        \n",
    "    s = 2*math.pi*r**2+2*math.pi*r*h\n",
    "    v = math.pi*r**2*h\n",
    "    \n",
    "    return [s,v]\n",
    "\n",
    "r = float(input(\"Enter the radius of the cylinder : \"))\n",
    "h = float(input(\"Enter the height of the cylinder : \"))\n",
    "print(\"The Surface Area and Volume For The Given Cylinder is : \")\n",
    "print(vol_cylinder(r,h))"
   ]
  },
  {
   "cell_type": "code",
   "execution_count": null,
   "id": "f1cf773a",
   "metadata": {},
   "outputs": [],
   "source": []
  }
 ],
 "metadata": {
  "kernelspec": {
   "display_name": "Python 3 (ipykernel)",
   "language": "python",
   "name": "python3"
  },
  "language_info": {
   "codemirror_mode": {
    "name": "ipython",
    "version": 3
   },
   "file_extension": ".py",
   "mimetype": "text/x-python",
   "name": "python",
   "nbconvert_exporter": "python",
   "pygments_lexer": "ipython3",
   "version": "3.9.13"
  }
 },
 "nbformat": 4,
 "nbformat_minor": 5
}
