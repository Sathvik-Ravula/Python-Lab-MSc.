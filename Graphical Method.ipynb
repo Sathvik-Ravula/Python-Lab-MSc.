{
 "cells": [
  {
   "cell_type": "markdown",
   "id": "e494c765",
   "metadata": {},
   "source": [
    "# Graphical Method - Two Variable\n",
    "*By Saideva Sathvik, I MSc. DataScience And Computing, SSSIHL*"
   ]
  },
  {
   "cell_type": "markdown",
   "id": "12926579",
   "metadata": {},
   "source": [
    "\n",
    "**The Reddy Mikks Problem**"
   ]
  },
  {
   "cell_type": "markdown",
   "id": "f449e647",
   "metadata": {},
   "source": [
    "Maximize $f(X) = 5x1+4x2$\n",
    "subject to \n",
    "$$6x1+4x2\\le 24\\\\\n",
    "x1+2x2\\le6\\\\\n",
    "-x1+x2\\le1\\\\\n",
    "x2\\le2\\\\\n",
    "x1\\ge0\\\\\n",
    "x2\\ge0\\\\\n",
    "$$ "
   ]
  },
  {
   "cell_type": "code",
   "execution_count": 107,
   "id": "617be737",
   "metadata": {},
   "outputs": [
    {
     "data": {
      "image/png": "[encoded data removed]",
      "text/plain": [
       "<Figure size 720x576 with 1 Axes>"
      ]
     },
     "metadata": {
      "needs_background": "light"
     },
     "output_type": "display_data"
    }
   ],
   "source": [
    "import numpy as np\n",
    "import matplotlib.pyplot as plt\n",
    "\n",
    "def f(x):\n",
    "    return 5*x[0]+4*x[1]\n",
    "\n",
    "def c1(x):\n",
    "    return (24-6*x)/4\n",
    "    \n",
    "def c2(x):\n",
    "    return (6-x)/2\n",
    "    \n",
    "def c3(x):\n",
    "    return 1+x\n",
    "\n",
    "def c4(x):\n",
    "    return 2+x-x\n",
    "\n",
    "def c5(x):\n",
    "    return 0+x-x\n",
    "\n",
    "\n",
    "a = np.linspace(0,7,1000)\n",
    "\n",
    "d = np.linspace(-1,7,1000)\n",
    "\n",
    "x,y = np.meshgrid(d,d)\n",
    "\n",
    "fig = plt.figure(figsize=(10,8))\n",
    "plt.plot(a,c1(a),c='orange',label=\"1. 6x+4y<=24\")\n",
    "plt.plot(a,c2(a),c='r',label=\"2. x+2y<=6\")\n",
    "plt.plot(a,c3(a),c='b',label=\"3. -x+y<=1\")\n",
    "plt.plot(a,c4(a),c='g',label=\"4. y<=2\")\n",
    "plt.plot(a,c5(a),c='black',label=\"5. x>=0\")\n",
    "plt.plot(c5(a),a*2,c='black',label=\"6. y>=0\")\n",
    "plt.title(f'The Reddy Mikks Problem - Graphical Method')\n",
    "plt.xlim(0,7)\n",
    "plt.ylim(0,7)\n",
    "\n",
    "#Shading The Feasible Region\n",
    "\n",
    "plt.imshow(((6*x+4*y<=24) & (x+2*y<=6) & (-x+y<=1) & (y<=2)) & (x>=0) & (y>=0).astype(int) , \n",
    "                extent=(x.min(),x.max(),y.min(),y.max()),origin=\"lower\", cmap=\"Greys\", alpha = 0.3);\n",
    "plt.legend(loc = 1)\n",
    "\n",
    "#Finding Corner Points From The Above Feasible Region\n",
    "\n",
    "con1_2 = np.array([[6, 4], [1, 2]])\n",
    "B = np.array([24, 6])\n",
    "X = np.linalg.inv(con1_2).dot(B)\n",
    "\n",
    "\n",
    "con3_4 = np.array([[0, 1], [-1, 1]])\n",
    "B = np.array([2, 1])\n",
    "X2 = np.linalg.inv(con3_4).dot(B)\n",
    "X2\n",
    "\n",
    "con2_4 = np.array([[0, 1], [1, 2]])\n",
    "B = np.array([2, 6])\n",
    "X3 = np.linalg.inv(con2_4).dot(B)\n",
    "X3\n",
    "\n",
    "con3_6 = np.array([[1, 0], [-1, 1]])\n",
    "B = np.array([0, 1])\n",
    "X4 = np.linalg.inv(con3_6).dot(B)\n",
    "X4\n",
    "\n",
    "con1_5 = np.array([[6, 4], [0, 1]])\n",
    "B = np.array([24, 0])\n",
    "X1 = np.linalg.inv(con1_5).dot(B)\n",
    "X1\n",
    "\n",
    "con5_6 = np.array([[0, 1], [1, 0]])\n",
    "B = np.array([0, 0])\n",
    "X5 = np.linalg.inv(con5_6).dot(B)\n",
    "X5\n",
    "\n",
    "X_IP = np.array([X,X1,X2,X3,X4,X5])\n",
    "\n",
    "for i in range(len(X_IP)):\n",
    "    plt.scatter(X_IP[i, 0], X_IP[i, 1], marker='x', alpha = 1, color = 'black')\n",
    "plt.show()\n",
    "\n",
    "#plt.show()"
   ]
  },
  {
   "cell_type": "code",
   "execution_count": 113,
   "id": "da8bbc30",
   "metadata": {},
   "outputs": [
    {
     "name": "stdout",
     "output_type": "stream",
     "text": [
      "The Optimal Point is [3.  1.5] and f(x1,x2) at that point is : 21.000000000000004\n"
     ]
    }
   ],
   "source": [
    "# Finding Optimal Solution\n",
    "\n",
    "maxima = f(X_IP[1])\n",
    "Optimal_Point = X_IP[1]\n",
    "\n",
    "for i in range(len(X_IP)):\n",
    "    maxima_new = f(X_IP[i])\n",
    "    if maxima < maxima_new:\n",
    "        maxima = maxima_new\n",
    "        Optimal_Point = X_IP[i]\n",
    "        \n",
    "print(f\"The Optimal Point is {Optimal_Point} and f(x1,x2) at that point is : {maxima}\")\n",
    "    "
   ]
  },
  {
   "cell_type": "markdown",
   "id": "8fc79cf0",
   "metadata": {},
   "source": [
    "### Now We Can See The Optimal Solution Where f(x1,x2) Is Maximum In The Feasible Region"
   ]
  },
  {
   "cell_type": "code",
   "execution_count": null,
   "id": "1f26d518",
   "metadata": {},
   "outputs": [],
   "source": []
  }
 ],
 "metadata": {
  "kernelspec": {
   "display_name": "Python 3 (ipykernel)",
   "language": "python",
   "name": "python3"
  },
  "language_info": {
   "codemirror_mode": {
    "name": "ipython",
    "version": 3
   },
   "file_extension": ".py",
   "mimetype": "text/x-python",
   "name": "python",
   "nbconvert_exporter": "python",
   "pygments_lexer": "ipython3",
   "version": "3.9.13"
  }
 },
 "nbformat": 4,
 "nbformat_minor": 5
}
